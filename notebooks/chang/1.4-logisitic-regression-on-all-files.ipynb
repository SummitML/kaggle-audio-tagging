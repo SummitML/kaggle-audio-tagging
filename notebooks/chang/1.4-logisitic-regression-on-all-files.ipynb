{
 "cells": [
  {
   "cell_type": "markdown",
   "metadata": {},
   "source": [
    "## Idea\n",
    "\n",
    "I want to use two out of the box features: chroma_stft and mfcc from librosa. For each feature, I will make a simple logistic regression model, then combine the output from both models as new features to train another model on top of it. \n",
    "\n",
    "Several friends had commented in the past that stacked/ensemble models tend to work better than a single model, so I want to try the workflow here.\n",
    "\n",
    "![stacked](../../docs/images/chang-1.4-stacked-model.png)\n",
    "\n",
    "Also got the idea off Ch.50 page 3 of Andrew Ng's book Deep Learning Yearning he's sending out in emails\n",
    "\n",
    "The results are evaluated by a 75%-25% train-test split with the out of the box metric (mean accuracy)."
   ]
  },
  {
   "cell_type": "code",
   "execution_count": null,
   "metadata": {},
   "outputs": [],
   "source": [
    "import helpers\n",
    "import pandas as pd\n",
    "import pickle\n",
    "import numpy as np\n",
    "import math\n",
    "import librosa.feature as lf\n",
    "from sklearn import model_selection\n",
    "from sklearn import linear_model"
   ]
  },
  {
   "cell_type": "markdown",
   "metadata": {},
   "source": [
    "## Loading data for later use\n",
    "\n",
    "**Can skip reading this whole section** - basically load and process it using Carlos's function to either read the whole audio or only the first second.\n",
    "\n",
    "Somehow I always have memory error in reading Applauses when I try to parse the whole thing. It may have to do with the 32-bit Python installation I have on Windows 10."
   ]
  },
  {
   "cell_type": "code",
   "execution_count": null,
   "metadata": {},
   "outputs": [],
   "source": [
    "TRAIN_CSV = 'data/external/train.csv'\n",
    "TRAIN_FILES = 'data/external/audio_train'"
   ]
  },
  {
   "cell_type": "code",
   "execution_count": null,
   "metadata": {},
   "outputs": [],
   "source": [
    "tags = list(pd.read_csv(TRAIN_CSV).label.unique())"
   ]
  },
  {
   "cell_type": "markdown",
   "metadata": {},
   "source": [
    "Load each label and process into 1 second clips separately"
   ]
  },
  {
   "cell_type": "code",
   "execution_count": null,
   "metadata": {},
   "outputs": [],
   "source": [
    "for tag_num, tag_name in enumerate(tags):\n",
    "    train_files = helpers.find_paths_with_tags(csv_path=TRAIN_CSV, files_path=TRAIN_FILES, filters=[tag_name])\n",
    "    wav_data = helpers.load_wav_files(train_files, duration=15)\n",
    "    with open('data/raw/train/wav-data-{}.pkl'.format(tag_name), 'wb') as f:\n",
    "        pickle.dump(wav_data, f)\n",
    "    print('Processed {}-{}'.format(tag_num, tag_name))"
   ]
  },
  {
   "cell_type": "code",
   "execution_count": null,
   "metadata": {},
   "outputs": [],
   "source": [
    "for tag_num, tag_name in enumerate(tags[37:]):\n",
    "    train_files = helpers.find_paths_with_tags(csv_path=TRAIN_CSV, files_path=TRAIN_FILES, filters=[tag_name])\n",
    "    wav_data = helpers.load_wav_files(train_files, duration=15)\n",
    "    with open('data/raw/train/wav-data-{}.pkl'.format(tag_name), 'wb') as f:\n",
    "        pickle.dump(wav_data, f)\n",
    "    print('Processed {}-{}'.format(tag_num, tag_name))"
   ]
  },
  {
   "cell_type": "markdown",
   "metadata": {},
   "source": [
    "#### 1 second versions"
   ]
  },
  {
   "cell_type": "code",
   "execution_count": null,
   "metadata": {},
   "outputs": [],
   "source": [
    "for tag_num, tag_name in enumerate(tags):\n",
    "    train_files = helpers.find_paths_with_tags(csv_path=TRAIN_CSV, files_path=TRAIN_FILES, filters=[tag_name])\n",
    "    wav_data = helpers.load_wav_files(train_files, duration=1)\n",
    "    with open('data/raw/train-1-sec/wav-data-{}.pkl'.format(tag_name), 'wb') as f:\n",
    "        pickle.dump(wav_data, f)\n",
    "    print('Processed {}-{}'.format(tag_num, tag_name))"
   ]
  },
  {
   "cell_type": "markdown",
   "metadata": {},
   "source": [
    "## Process features"
   ]
  },
  {
   "cell_type": "markdown",
   "metadata": {},
   "source": [
    "Here I processed the files to extract their features.\n",
    "\n",
    "If an audio is less than 1 second long, then pad it to 1 second before processing it."
   ]
  },
  {
   "cell_type": "code",
   "execution_count": null,
   "metadata": {},
   "outputs": [],
   "source": [
    "def pad_audio(sound: np.ndarray, sample_rate=22050):\n",
    "    padded_sound = np.tile(sound, math.ceil(sample_rate / sound.shape[0]))\n",
    "    return padded_sound[:sample_rate]"
   ]
  },
  {
   "cell_type": "markdown",
   "metadata": {},
   "source": [
    "#### chroma_stft"
   ]
  },
  {
   "cell_type": "markdown",
   "metadata": {},
   "source": [
    "For each label, read in the 1 second version, process with librosa.features.chroma_stft, then save it back to disk."
   ]
  },
  {
   "cell_type": "code",
   "execution_count": null,
   "metadata": {},
   "outputs": [],
   "source": [
    "%%time\n",
    "feature_name = 'chroma_stft'\n",
    "for tag_num, tag_name in enumerate(tags):\n",
    "    with open('data/raw/train-1-sec/wav-data-{}.pkl'.format(tag_name), 'rb') as f:\n",
    "        wav_data = pickle.load(f)\n",
    "    wav_features = {sample.name: lf.chroma_stft(pad_audio(sample.wav[0])).flatten() for sample in wav_data}\n",
    "    df_features = (\n",
    "        pd.DataFrame.from_dict(wav_features, orient='index')\n",
    "        .reset_index().rename({'index': 'name'}, axis=1)\n",
    "    )\n",
    "    df_features.columns = ['name'] + [feature_name + '_' + str(column_name) for column_name in list(df_features.columns)[1:]]\n",
    "    df_features.to_pickle('data/interim/{}-1-sec/{}.pkl'.format(feature_name, tag_name))"
   ]
  },
  {
   "cell_type": "markdown",
   "metadata": {},
   "source": [
    "#### mfcc"
   ]
  },
  {
   "cell_type": "markdown",
   "metadata": {},
   "source": [
    "For each label, read in the 1 second version, process with librosa.features.mfcc, then save it back to disk."
   ]
  },
  {
   "cell_type": "code",
   "execution_count": null,
   "metadata": {},
   "outputs": [],
   "source": [
    "%%time\n",
    "feature_name = 'mfcc'\n",
    "for tag_num, tag_name in enumerate(tags):\n",
    "    with open('data/raw/train-1-sec/wav-data-{}.pkl'.format(tag_name), 'rb') as f:\n",
    "        wav_data = pickle.load(f)\n",
    "    wav_features = {sample.name: lf.mfcc(pad_audio(sample.wav[0])).flatten() for sample in wav_data}\n",
    "    df_features = (\n",
    "        pd.DataFrame.from_dict(wav_features, orient='index')\n",
    "        .reset_index().rename({'index': 'name'}, axis=1)\n",
    "    )\n",
    "    df_features.columns = ['name'] + [feature_name + '_' + str(column_name) for column_name in list(df_features.columns)[1:]]\n",
    "    df_features.to_pickle('data/interim/{}-1-sec/{}.pkl'.format(feature_name, tag_name))"
   ]
  },
  {
   "cell_type": "markdown",
   "metadata": {},
   "source": [
    "## Make two models\n",
    "\n",
    "One for each feature"
   ]
  },
  {
   "cell_type": "markdown",
   "metadata": {},
   "source": [
    "#### Label the files \n",
    "\n",
    "Because scikit learn takes in numeric class labels only, I need to convert the string labels to numbers. \n",
    "\n",
    "EDIT: Only after I did it I found out about [sklearn.preprocessing.LabelEncoder](http://scikit-learn.org/stable/modules/generated/sklearn.preprocessing.LabelEncoder.html), so I will use that instead in the future."
   ]
  },
  {
   "cell_type": "code",
   "execution_count": null,
   "metadata": {},
   "outputs": [],
   "source": [
    "label_reference = pd.Series(tags).rename('label').to_frame().reset_index().rename({'index': 'label_index'}, axis=1)"
   ]
  },
  {
   "cell_type": "code",
   "execution_count": null,
   "metadata": {},
   "outputs": [],
   "source": [
    "file_labels = (\n",
    "    pd.read_csv(TRAIN_CSV)\n",
    "    .drop(['manually_verified'], axis=1)\n",
    "    .rename({'fname': 'name'}, axis=1)\n",
    "    .merge(label_reference, on=['label'])\n",
    ")"
   ]
  },
  {
   "cell_type": "markdown",
   "metadata": {},
   "source": [
    "#### Split the data into training and test set\n",
    "\n",
    "For both models, I need to split it into a training set and a test set so I can score later."
   ]
  },
  {
   "cell_type": "markdown",
   "metadata": {},
   "source": [
    "### chroma_stft"
   ]
  },
  {
   "cell_type": "markdown",
   "metadata": {},
   "source": [
    "##### train-test split"
   ]
  },
  {
   "cell_type": "code",
   "execution_count": null,
   "metadata": {},
   "outputs": [],
   "source": [
    "# load all features from processed files\n",
    "train_chroma_stft = pd.concat([pd.read_pickle('data/interim/{}-1-sec/{}.pkl'.format('chroma_stft', name)) for name in tags])\n",
    "\n",
    "df_train_chroma_stft = (\n",
    "    train_chroma_stft\n",
    "    .merge(file_labels, on=['name'], how='inner')\n",
    ")\n",
    "\n",
    "X_chroma_train, X_chroma_test, y_chroma_train, y_chroma_test = model_selection.train_test_split(\n",
    "    df_train_chroma_stft.drop(['name', 'label', 'label_index'], axis=1).values,\n",
    "    df_train_chroma_stft['label_index'].values,\n",
    "    test_size=0.25, \n",
    "    random_state=707,\n",
    "    stratify=df_train_chroma_stft['label_index'].values\n",
    ")"
   ]
  },
  {
   "cell_type": "markdown",
   "metadata": {},
   "source": [
    "Use the multiclass version of logistic regression, don't balance class weight yet\n",
    "\n",
    "##### train model"
   ]
  },
  {
   "cell_type": "code",
   "execution_count": null,
   "metadata": {},
   "outputs": [],
   "source": [
    "chroma_model = linear_model.LogisticRegression(random_state=123)"
   ]
  },
  {
   "cell_type": "code",
   "execution_count": null,
   "metadata": {},
   "outputs": [],
   "source": [
    "%%time\n",
    "chroma_model.fit(X_chroma_train, y_chroma_train)"
   ]
  },
  {
   "cell_type": "markdown",
   "metadata": {},
   "source": [
    "Pickle the trained model"
   ]
  },
  {
   "cell_type": "code",
   "execution_count": null,
   "metadata": {},
   "outputs": [],
   "source": [
    "with open('data/interim/{}-1-sec/{}.pkl'.format('chroma_stft', 'logreg-model'), 'wb') as f:\n",
    "    pickle.dump(chroma_model, f)"
   ]
  },
  {
   "cell_type": "markdown",
   "metadata": {},
   "source": [
    "##### scoring\n",
    "\n",
    "Uses the mean class accuracy. See [This link](http://scikit-learn.org/stable/modules/generated/sklearn.linear_model.LogisticRegression.html#sklearn.linear_model.LogisticRegression.score) on the `.score` method for multiclass classification."
   ]
  },
  {
   "cell_type": "code",
   "execution_count": null,
   "metadata": {},
   "outputs": [],
   "source": [
    "chroma_model.score(X_chroma_test, y_chroma_test)"
   ]
  },
  {
   "cell_type": "markdown",
   "metadata": {},
   "source": [
    "### mfcc"
   ]
  },
  {
   "cell_type": "markdown",
   "metadata": {},
   "source": [
    "##### train-test split"
   ]
  },
  {
   "cell_type": "code",
   "execution_count": null,
   "metadata": {},
   "outputs": [],
   "source": [
    "# load all features from processed files\n",
    "train_mfcc = pd.concat([pd.read_pickle('data/interim/{}-1-sec/{}.pkl'.format('mfcc', name)) for name in tags])\n",
    "\n",
    "df_train_mfcc = (\n",
    "    train_mfcc\n",
    "    .merge(file_labels, on=['name'], how='inner')\n",
    ")\n",
    "\n",
    "X_mfcc_train, X_mfcc_test, y_mfcc_train, y_mfcc_test = model_selection.train_test_split(\n",
    "    df_train_mfcc.drop(['name', 'label', 'label_index'], axis=1).values,\n",
    "    df_train_mfcc['label_index'].values,\n",
    "    test_size=0.25, \n",
    "    random_state=707,\n",
    "    stratify=df_train_mfcc['label_index'].values\n",
    ")"
   ]
  },
  {
   "cell_type": "markdown",
   "metadata": {},
   "source": [
    "Use the multiclass version of logistic regression. I changed to tolerance to 0.001 from 0.0001 because the latter was taking forever (> 30 minutes) to train. "
   ]
  },
  {
   "cell_type": "code",
   "execution_count": null,
   "metadata": {},
   "outputs": [],
   "source": [
    "mfcc_model = linear_model.LogisticRegression(tol=0.001, random_state=123) "
   ]
  },
  {
   "cell_type": "code",
   "execution_count": null,
   "metadata": {},
   "outputs": [],
   "source": [
    "%%time\n",
    "mfcc_model.fit(X_mfcc_train, y_mfcc_train)"
   ]
  },
  {
   "cell_type": "markdown",
   "metadata": {},
   "source": [
    "Pickle the trained model"
   ]
  },
  {
   "cell_type": "code",
   "execution_count": null,
   "metadata": {},
   "outputs": [],
   "source": [
    "with open('data/interim/{}-1-sec/{}.pkl'.format('mfcc', 'logreg-model'), 'wb') as f:\n",
    "    pickle.dump(mfcc_model, f)"
   ]
  },
  {
   "cell_type": "markdown",
   "metadata": {},
   "source": [
    "##### scoring\n",
    "\n",
    "See [This link](http://scikit-learn.org/stable/modules/generated/sklearn.linear_model.LogisticRegression.html#sklearn.linear_model.LogisticRegression.score) on the `.score` method for multiclass classification."
   ]
  },
  {
   "cell_type": "code",
   "execution_count": null,
   "metadata": {},
   "outputs": [],
   "source": [
    "mfcc_model.score(X_mfcc_test, y_mfcc_test)"
   ]
  },
  {
   "cell_type": "markdown",
   "metadata": {},
   "source": [
    "### Stack the two models up"
   ]
  },
  {
   "cell_type": "markdown",
   "metadata": {},
   "source": [
    "Turn the output from model 1 and 2 into probability predictions.\n",
    "\n",
    "I used log(probability) instead of raw class probability for no particular reason. \n",
    "\n",
    "##### read the trained models"
   ]
  },
  {
   "cell_type": "code",
   "execution_count": null,
   "metadata": {},
   "outputs": [],
   "source": [
    "with open('data/interim/{}-1-sec/{}.pkl'.format('chroma_stft', 'logreg-model'), 'rb') as f:\n",
    "    chroma_model = pickle.load(f)\n",
    "\n",
    "with open('data/interim/{}-1-sec/{}.pkl'.format('mfcc', 'logreg-model'), 'rb') as f:\n",
    "    mfcc_model = pickle.load(f)"
   ]
  },
  {
   "cell_type": "markdown",
   "metadata": {},
   "source": [
    "Note that y_chroma_train and y_mfcc_train are the same - actually I only need to split it once in the preprocessing step. "
   ]
  },
  {
   "cell_type": "code",
   "execution_count": null,
   "metadata": {},
   "outputs": [],
   "source": [
    "np.array_equal(y_chroma_train, y_mfcc_train)"
   ]
  },
  {
   "cell_type": "markdown",
   "metadata": {},
   "source": [
    "#### Use predictions from both models as new features\n",
    "\n",
    "Because there are 41 classes, each model gives me 41 features. Taking both will give me 41 + 41 = 82 features to train the stacked model."
   ]
  },
  {
   "cell_type": "markdown",
   "metadata": {},
   "source": [
    "#### Model 1"
   ]
  },
  {
   "cell_type": "code",
   "execution_count": null,
   "metadata": {},
   "outputs": [],
   "source": [
    "X_feature1_train = chroma_model.predict_log_proba(X_chroma_train)\n",
    "X_feature1_test = chroma_model.predict_log_proba(X_chroma_test)"
   ]
  },
  {
   "cell_type": "markdown",
   "metadata": {},
   "source": [
    "#### Model 2"
   ]
  },
  {
   "cell_type": "code",
   "execution_count": null,
   "metadata": {},
   "outputs": [],
   "source": [
    "X_feature2_train = mfcc_model.predict_log_proba(X_mfcc_train)\n",
    "X_feature2_test = mfcc_model.predict_log_proba(X_mfcc_test)"
   ]
  },
  {
   "cell_type": "code",
   "execution_count": null,
   "metadata": {},
   "outputs": [],
   "source": [
    "display(X_feature1_train.shape)\n",
    "display(X_feature2_train.shape)"
   ]
  },
  {
   "cell_type": "markdown",
   "metadata": {},
   "source": [
    "#### Combine the outputs from model 1 and 2\n",
    "\n",
    "Combine the features by axis=1"
   ]
  },
  {
   "cell_type": "code",
   "execution_count": null,
   "metadata": {},
   "outputs": [],
   "source": [
    "X_train = np.concatenate([X_feature1_train, X_feature2_train], axis=1)\n",
    "X_test = np.concatenate([X_feature1_test, X_feature2_test], axis=1)\n",
    "display(X_train.shape)"
   ]
  },
  {
   "cell_type": "markdown",
   "metadata": {},
   "source": [
    "##### train stacked model"
   ]
  },
  {
   "cell_type": "code",
   "execution_count": null,
   "metadata": {},
   "outputs": [],
   "source": [
    "stacked_model = linear_model.LogisticRegression(random_state=123)"
   ]
  },
  {
   "cell_type": "code",
   "execution_count": null,
   "metadata": {},
   "outputs": [],
   "source": [
    "%%time\n",
    "stacked_model.fit(X_train, y_mfcc_train)"
   ]
  },
  {
   "cell_type": "code",
   "execution_count": null,
   "metadata": {},
   "outputs": [],
   "source": [
    "stacked_model.score(X_test, y_mfcc_test)"
   ]
  },
  {
   "cell_type": "markdown",
   "metadata": {},
   "source": [
    "### Model performance with mean accuracy\n",
    "\n",
    "* only chroma_stft features: 16.6%\n",
    "* only mfcc features: 28.0%\n",
    "* Stacked logistic regression model using output from chroma_stft and mfcc: 30.4%"
   ]
  }
 ],
 "metadata": {
  "kernelspec": {
   "display_name": "Python 3",
   "language": "python",
   "name": "python3"
  },
  "language_info": {
   "codemirror_mode": {
    "name": "ipython",
    "version": 3
   },
   "file_extension": ".py",
   "mimetype": "text/x-python",
   "name": "python",
   "nbconvert_exporter": "python",
   "pygments_lexer": "ipython3",
   "version": "3.6.5"
  }
 },
 "nbformat": 4,
 "nbformat_minor": 2
}
